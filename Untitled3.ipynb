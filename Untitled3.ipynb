{
 "cells": [
  {
   "cell_type": "code",
   "execution_count": 3,
   "id": "b1905ee7",
   "metadata": {},
   "outputs": [
    {
     "name": "stdout",
     "output_type": "stream",
     "text": [
      "Data loaded\n"
     ]
    }
   ],
   "source": [
    "# names of hurricanes\n",
    "names = ['Cuba I', 'San Felipe II Okeechobee', 'Bahamas', 'Cuba II',\n",
    "         'CubaBrownsville', 'Tampico', 'Labor Day', 'New England', 'Carol',\n",
    "         'Janet', 'Carla', 'Hattie', 'Beulah', 'Camille',\n",
    "         'Edith', 'Anita', 'David', 'Allen', 'Gilbert', 'Hugo', 'Andrew',\n",
    "         'Mitch', 'Isabel', 'Ivan', 'Emily', 'Katrina', 'Rita', 'Wilma',\n",
    "         'Dean', 'Felix', 'Matthew', 'Irma', 'Maria', 'Michael']\n",
    "\n",
    "# months of hurricanes\n",
    "months = ['October', 'September', 'September', 'November', 'August',\n",
    "          'September', 'September', 'September', 'September', 'September',\n",
    "          'September', 'October', 'September', 'August', 'September',\n",
    "          'September', 'August', 'August', 'September', 'September', 'August',\n",
    "          'October', 'September', 'September', 'July', 'August', 'September',\n",
    "          'October', 'August', 'September', 'October', 'September',\n",
    "          'September', 'October']\n",
    "\n",
    "# years of hurricanes\n",
    "years = [1924, 1928, 1932, 1932, 1933, 1933, 1935, 1938, 1953, 1955, 1961,\n",
    "         1961, 1967, 1969, 1971, 1977, 1979, 1980, 1988, 1989, 1992, 1998,\n",
    "         2003, 2004, 2005, 2005, 2005, 2005, 2007, 2007, 2016, 2017, 2017,\n",
    "         2018]\n",
    "\n",
    "# maximum sustained winds (mph) of hurricanes\n",
    "max_sustained_winds = [165, 160, 160, 175, 160, 160, 185, 160, 160, 175, 175,\n",
    "                       160, 160, 175, 160, 175, 175, 190, 185, 160, 175, 180,\n",
    "                       165, 165, 160, 175, 180, 185, 175, 175, 165, 180, 175,\n",
    "                       160]\n",
    "\n",
    "# areas affected by each hurricane\n",
    "areas_affected = [['Central America', 'Mexico', 'Cuba', 'Florida', 'The Bahamas'],\n",
    "                  ['Lesser Antilles', 'The Bahamas',\n",
    "                   'United States East Coast', 'Atlantic Canada'],\n",
    "                  ['The Bahamas', 'Northeastern United States'],\n",
    "                  ['Lesser Antilles', 'Jamaica', 'Cayman Islands', 'Cuba',\n",
    "                   'The Bahamas', 'Bermuda'],\n",
    "                  ['The Bahamas', 'Cuba', 'Florida', 'Texas', 'Tamaulipas'],\n",
    "                  ['Jamaica', 'Yucatn Peninsula'],\n",
    "                  ['The Bahamas', 'Florida', 'Georgia', 'The Carolinas',\n",
    "                   'Virginia'],\n",
    "                  ['Southeastern United States', 'Northeastern United States',\n",
    "                   'Southwestern Quebec'],\n",
    "                  ['Bermuda', 'New England', 'Atlantic Canada'],\n",
    "                  ['Lesser Antilles', 'Central America'],\n",
    "                  ['Texas', 'Louisiana', 'Midwestern United States'],\n",
    "                  ['Central America'],\n",
    "                  ['The Caribbean', 'Mexico', 'Texas'],\n",
    "                  ['Cuba', 'United States Gulf Coast'],\n",
    "                  ['The Caribbean', 'Central America', 'Mexico',\n",
    "                   'United States Gulf Coast'],\n",
    "                  ['Mexico'],\n",
    "                  ['The Caribbean', 'United States East coast'],\n",
    "                  ['The Caribbean', 'Yucatn Peninsula', 'Mexico', 'South Texas'],\n",
    "                  ['Jamaica', 'Venezuela', 'Central America', 'Hispaniola',\n",
    "                   'Mexico'],\n",
    "                  ['The Caribbean', 'United States East Coast'],\n",
    "                  ['The Bahamas', 'Florida', 'United States Gulf Coast'],\n",
    "                  ['Central America', 'Yucatn Peninsula', 'South Florida'],\n",
    "                  ['Greater Antilles', 'Bahamas', 'Eastern United States',\n",
    "                   'Ontario'],\n",
    "                  ['The Caribbean', 'Venezuela', 'United States Gulf Coast'],\n",
    "                  ['Windward Islands', 'Jamaica', 'Mexico', 'Texas'],\n",
    "                  ['Bahamas', 'United States Gulf Coast'],\n",
    "                  ['Cuba', 'United States Gulf Coast'],\n",
    "                  ['Greater Antilles', 'Central America', 'Florida'],\n",
    "                  ['The Caribbean', 'Central America'],\n",
    "                  ['Nicaragua', 'Honduras'],\n",
    "                  ['Antilles', 'Venezuela', 'Colombia',\n",
    "                   'United States East Coast', 'Atlantic Canada'],\n",
    "                  ['Cape Verde', 'The Caribbean', 'British Virgin Islands',\n",
    "                   'U.S. Virgin Islands', 'Cuba', 'Florida'],\n",
    "                  ['Lesser Antilles', 'Virgin Islands', 'Puerto Rico',\n",
    "                   'Dominican Republic', 'Turks and Caicos Islands'],\n",
    "                  ['Central America',\n",
    "                   'United States Gulf Coast (especially Florida Panhandle)']]\n",
    "\n",
    "# damages (USD($)) of hurricanes\n",
    "damages = ['Damages not recorded', '100M', 'Damages not recorded', '40M',\n",
    "           '27.9M', '5M', 'Damages not recorded', '306M', '2M', '65.8M',\n",
    "           '326M', '60.3M', '208M', '1.42B', '25.4M', 'Damages not recorded',\n",
    "           '1.54B', '1.24B', '7.1B', '10B', '26.5B', '6.2B', '5.37B', '23.3B',\n",
    "           '1.01B', '125B', '12B', '29.4B', '1.76B', '720M', '15.1B', '64.8B',\n",
    "           '91.6B', '25.1B']\n",
    "\n",
    "# deaths for each hurricane\n",
    "deaths = [90, 4000, 16, 3103, 179, 184, 408, 682, 5, 1023, 43, 319, 688, 259,\n",
    "          37, 11, 2068, 269, 318, 107, 65, 19325, 51, 124, 17, 1836, 125, 87,\n",
    "          45, 133, 603, 138, 3057, 74]\n",
    "\n",
    "print('Data loaded')"
   ]
  },
  {
   "cell_type": "code",
   "execution_count": 4,
   "id": "294a320b",
   "metadata": {},
   "outputs": [
    {
     "name": "stdout",
     "output_type": "stream",
     "text": [
      "['Damages not recorded', 100000000.0, 'Damages not recorded', 40000000.0, 27900000.0, 5000000.0, 'Damages not recorded', 306000000.0, 2000000.0, 65800000.0, 326000000.0, 60300000.0, 208000000.0, 1420000000.0, 25400000.0, 'Damages not recorded', 1540000000.0, 1240000000.0, 7100000000.0, 10000000000.0, 26500000000.0, 6200000000.0, 5370000000.0, 23300000000.0, 1010000000.0, 125000000000.0, 12000000000.0, 29400000000.0, 1760000000.0, 720000000.0, 15100000000.0, 64800000000.0, 91600000000.0, 25100000000.0]\n"
     ]
    }
   ],
   "source": [
    "'''Write a function that returns a new list of updated damages where the\n",
    "recorded data is converted to float values, where B stands for\n",
    "billions (1000000000) and M stands for millions (1000000) and the missing data\n",
    "is retained as \"Damages not recorded\".'''\n",
    "\n",
    "\n",
    "def update_damages(damages):\n",
    "\n",
    "    conversion = {\"M\": 1000000,\n",
    "                  \"B\": 1000000000}\n",
    "    updated_damages_lst = []\n",
    "\n",
    "    for damage in damages:\n",
    "        if damage[-1] == \"M\":\n",
    "            damage = float(damage.strip(\"M\")) * conversion[\"M\"]\n",
    "            updated_damages_lst.append(damage)\n",
    "        elif damage[-1] == \"B\":\n",
    "            damage = float(damage.strip(\"B\")) * conversion[\"B\"]\n",
    "            updated_damages_lst.append(damage)\n",
    "        else:\n",
    "            updated_damages_lst.append(damage)\n",
    "    return updated_damages_lst\n",
    "\n",
    "\n",
    "updated_damages = update_damages(damages)\n",
    "print(updated_damages)"
   ]
  },
  {
   "cell_type": "code",
   "execution_count": 7,
   "id": "3d2edca7",
   "metadata": {},
   "outputs": [
    {
     "name": "stdout",
     "output_type": "stream",
     "text": [
      "Example for hurricane Irma:\n",
      "{'Name': 'Irma', 'Month': 'September', 'Year': 2017, 'Max Sustained Wind': 180, 'Areas Affected': ['Cape Verde', 'The Caribbean', 'British Virgin Islands', 'U.S. Virgin Islands', 'Cuba', 'Florida'], 'Damage': 64800000000.0, 'Deaths': 138}\n"
     ]
    }
   ],
   "source": [
    "'''Write a function that constructs a dictionary made out of the lists, where\n",
    "the keys of the dictionary are the names of the hurricanes, and the values are\n",
    "dictionaries themselves containing a key for each piece of data (Name, Month,\n",
    "Year,Max Sustained Wind, Areas Affected, Damage, Death) about the hurricane.'''\n",
    "\n",
    "\n",
    "def hurricanes_data(names, months, years, max_sustained_winds, areas_affected,\n",
    "                    updated_damages, deaths):\n",
    "\n",
    "    hurricanes = {}\n",
    "\n",
    "    for i in range(len(names)):\n",
    "        hurricanes.update({names[i]:\n",
    "                           {\"Name\": names[i],\n",
    "                            \"Month\": months[i],\n",
    "                            \"Year\": years[i],\n",
    "                            \"Max Sustained Wind\": max_sustained_winds[i],\n",
    "                            \"Areas Affected\": areas_affected[i],\n",
    "                            \"Damage\": updated_damages[i],\n",
    "                            \"Deaths\": deaths[i]}})\n",
    "    return hurricanes\n",
    "\n",
    "\n",
    "hurricanes = hurricanes_data(names, months, years, max_sustained_winds,\n",
    "                             areas_affected, updated_damages, deaths)\n",
    "\n",
    "print('Example for hurricane Irma:')\n",
    "print(hurricanes[\"Irma\"])"
   ]
  },
  {
   "cell_type": "code",
   "execution_count": 12,
   "id": "5f930b45",
   "metadata": {},
   "outputs": [
    {
     "name": "stdout",
     "output_type": "stream",
     "text": [
      "Example for year 2005\n",
      "[{'Name': 'Emily', 'Month': 'July', 'Year': 2005, 'Max Sustained Wind': 160, 'Areas Affected': ['Windward Islands', 'Jamaica', 'Mexico', 'Texas'], 'Damage': 1010000000.0, 'Deaths': 17}, {'Name': 'Katrina', 'Month': 'August', 'Year': 2005, 'Max Sustained Wind': 175, 'Areas Affected': ['Bahamas', 'United States Gulf Coast'], 'Damage': 125000000000.0, 'Deaths': 1836}, {'Name': 'Rita', 'Month': 'September', 'Year': 2005, 'Max Sustained Wind': 180, 'Areas Affected': ['Cuba', 'United States Gulf Coast'], 'Damage': 12000000000.0, 'Deaths': 125}, {'Name': 'Wilma', 'Month': 'October', 'Year': 2005, 'Max Sustained Wind': 185, 'Areas Affected': ['Greater Antilles', 'Central America', 'Florida'], 'Damage': 29400000000.0, 'Deaths': 87}]\n"
     ]
    }
   ],
   "source": [
    "'''Write a function that converts the current dictionary of hurricanes to a new\n",
    "dictionary, where the keys are years and the values are lists containing\n",
    "a dictionary for each hurricane that occurred in that year.'''\n",
    "\n",
    "\n",
    "def organize_by_year(hurricanes):\n",
    "\n",
    "    organized_by_year = {}\n",
    "\n",
    "    for key, value in hurricanes.items():\n",
    "        current_year = value[\"Year\"]\n",
    "        lst = [value]\n",
    "        if current_year not in organized_by_year:\n",
    "            organized_by_year.update({current_year: lst})\n",
    "        else:\n",
    "            organized_by_year[current_year].append(value)\n",
    "    return organized_by_year\n",
    "\n",
    "\n",
    "hurricanes_by_year = organize_by_year(hurricanes)\n",
    "\n",
    "print('Example for year 2005')\n",
    "print(hurricanes_by_year[2005])"
   ]
  },
  {
   "cell_type": "code",
   "execution_count": 13,
   "id": "bd12656e",
   "metadata": {},
   "outputs": [
    {
     "name": "stdout",
     "output_type": "stream",
     "text": [
      "{'Central America': 9, 'Mexico': 7, 'Cuba': 6, 'Florida': 6, 'The Bahamas': 7, 'Lesser Antilles': 4, 'United States East Coast': 3, 'Atlantic Canada': 3, 'Northeastern United States': 2, 'Jamaica': 4, 'Cayman Islands': 1, 'Bermuda': 2, 'Texas': 4, 'Tamaulipas': 1, 'Yucatn Peninsula': 3, 'Georgia': 1, 'The Carolinas': 1, 'Virginia': 1, 'Southeastern United States': 1, 'Southwestern Quebec': 1, 'New England': 1, 'Louisiana': 1, 'Midwestern United States': 1, 'The Caribbean': 8, 'United States Gulf Coast': 6, 'United States East coast': 1, 'South Texas': 1, 'Venezuela': 3, 'Hispaniola': 1, 'South Florida': 1, 'Greater Antilles': 2, 'Bahamas': 2, 'Eastern United States': 1, 'Ontario': 1, 'Windward Islands': 1, 'Nicaragua': 1, 'Honduras': 1, 'Antilles': 1, 'Colombia': 1, 'Cape Verde': 1, 'British Virgin Islands': 1, 'U.S. Virgin Islands': 1, 'Virgin Islands': 1, 'Puerto Rico': 1, 'Dominican Republic': 1, 'Turks and Caicos Islands': 1, 'United States Gulf Coast (especially Florida Panhandle)': 1}\n"
     ]
    }
   ],
   "source": [
    "'''Write a function that counts how often each area is listed as an affected\n",
    "area of a hurricane. Store and return the results in a dictionary where\n",
    "the keys are the affected areas and the values are counts of how many times\n",
    "the areas were affected.'''\n",
    "\n",
    "\n",
    "def count_area(areas_affected):\n",
    "\n",
    "    areas_count = {}\n",
    "\n",
    "    for area in areas_affected:\n",
    "        for i in area:\n",
    "            if i not in areas_count:\n",
    "                areas_count[i] = 1\n",
    "            else:\n",
    "                areas_count[i] += 1\n",
    "    return areas_count\n",
    "\n",
    "\n",
    "how_often_area = count_area(areas_affected)\n",
    "\n",
    "print(how_often_area)"
   ]
  },
  {
   "cell_type": "code",
   "execution_count": 14,
   "id": "6f8f9a4b",
   "metadata": {},
   "outputs": [
    {
     "name": "stdout",
     "output_type": "stream",
     "text": [
      "Most affected area is Central America with 9 hurricanes.\n"
     ]
    }
   ],
   "source": [
    "'''Write a function that finds the area affected by the most hurricanes,\n",
    "and how often it was hit.'''\n",
    "\n",
    "\n",
    "def most_hurricanes(hurricanes):\n",
    "\n",
    "    most_affected = max(hurricanes, key=hurricanes.get)\n",
    "    answer = \"Most affected area is \" + most_affected +\\\n",
    "             \" with \" + str(hurricanes[most_affected]) + \" hurricanes.\"\n",
    "    return answer\n",
    "\n",
    "\n",
    "most_affected_area = most_hurricanes(how_often_area)\n",
    "\n",
    "print(most_affected_area)"
   ]
  },
  {
   "cell_type": "code",
   "execution_count": 15,
   "id": "81e5db42",
   "metadata": {},
   "outputs": [
    {
     "name": "stdout",
     "output_type": "stream",
     "text": [
      "19325 Mitch\n"
     ]
    }
   ],
   "source": [
    "'''Write a function that finds the hurricane that caused the greatest number\n",
    " of deaths, and how many deaths it caused.'''\n",
    "\n",
    "\n",
    "def most_deadly(hurricanes):\n",
    "\n",
    "    hurricane_most_deadly = ''\n",
    "    number_of_deaths = 0\n",
    "\n",
    "    for hurricane in hurricanes:\n",
    "        if hurricanes[hurricane]['Deaths'] > number_of_deaths:\n",
    "            hurricane_most_deadly = hurricane\n",
    "            number_of_deaths = hurricanes[hurricane]['Deaths']\n",
    "    return number_of_deaths, hurricane_most_deadly\n",
    "\n",
    "\n",
    "most_deaths, number_of_deaths = most_deadly(hurricanes)\n",
    "\n",
    "print(most_deaths, number_of_deaths)"
   ]
  },
  {
   "cell_type": "code",
   "execution_count": null,
   "id": "10413be4",
   "metadata": {},
   "outputs": [],
   "source": []
  }
 ],
 "metadata": {
  "kernelspec": {
   "display_name": "Python 3",
   "language": "python",
   "name": "python3"
  },
  "language_info": {
   "codemirror_mode": {
    "name": "ipython",
    "version": 3
   },
   "file_extension": ".py",
   "mimetype": "text/x-python",
   "name": "python",
   "nbconvert_exporter": "python",
   "pygments_lexer": "ipython3",
   "version": "3.8.8"
  }
 },
 "nbformat": 4,
 "nbformat_minor": 5
}
